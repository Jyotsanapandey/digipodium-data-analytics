{
 "cells": [
  {
   "cell_type": "markdown",
   "metadata": {},
   "source": [
    "# condition \n",
    "1. else\n",
    "2. else if\n",
    "3. if elif else\n",
    "4. nested if \n",
    "5. match case"
   ]
  },
  {
   "cell_type": "markdown",
   "metadata": {},
   "source": [
    "### syntax\n",
    "~~~\n",
    "if condition:\n",
    "~~~\n",
    "   statement"
   ]
  },
  {
   "cell_type": "markdown",
   "metadata": {},
   "source": []
  },
  {
   "cell_type": "code",
   "execution_count": 1,
   "metadata": {},
   "outputs": [
    {
     "name": "stdout",
     "output_type": "stream",
     "text": [
      "100 is greater than 10\n"
     ]
    }
   ],
   "source": [
    "if 100 > 10:\n",
    "    print('100 is greater than 10')"
   ]
  },
  {
   "cell_type": "code",
   "execution_count": 2,
   "metadata": {},
   "outputs": [],
   "source": [
    "if 5 > 10:\n",
    "    print('5 is greater than 10')"
   ]
  },
  {
   "cell_type": "code",
   "execution_count": 3,
   "metadata": {},
   "outputs": [
    {
     "name": "stdout",
     "output_type": "stream",
     "text": [
      "this is great\n",
      "10 is greater than b\n"
     ]
    }
   ],
   "source": [
    "a = 10\n",
    "b = 20 \n",
    "if a < b:\n",
    "    print('this is great')\n",
    "    print(f'{a} is greater than b')"
   ]
  },
  {
   "cell_type": "code",
   "execution_count": 5,
   "metadata": {},
   "outputs": [
    {
     "name": "stdout",
     "output_type": "stream",
     "text": [
      "this is a string\n"
     ]
    }
   ],
   "source": [
    "data = input('enter a data:')\n",
    "if data.isalpha():\n",
    "    print(\"this is a string\")\n",
    "if data.isnumeric():\n",
    "    print(\"this is a number\") \n",
    "if data.isspace():\n",
    "    print(\"this is a space\")\n"
   ]
  },
  {
   "cell_type": "code",
   "execution_count": 6,
   "metadata": {},
   "outputs": [
    {
     "name": "stdout",
     "output_type": "stream",
     "text": [
      "it is hot\n"
     ]
    }
   ],
   "source": [
    "temp = 32\n",
    "if temp > 25:\n",
    "    print(\"it is hot\")\n",
    "else:\n",
    "    print(\"it is cold\")    "
   ]
  },
  {
   "cell_type": "code",
   "execution_count": 7,
   "metadata": {},
   "outputs": [
    {
     "name": "stdout",
     "output_type": "stream",
     "text": [
      "an apple keps a doctor away\n"
     ]
    }
   ],
   "source": [
    "fruit = input(\"what fruit do you like ? \")\n",
    "if fruit == 'apple':\n",
    "    print('an apple keps a doctor away')\n",
    "elif fruit == 'banana':\n",
    "    print('banana is good source of potassium')\n",
    "elif fruit == 'mango':\n",
    "    print('mango is the king of the fruits')\n",
    "elif fruit == 'orange':\n",
    "    print('orange is the good source of vitamin C ')\n",
    "else:\n",
    "    print('not found in the database')        \n"
   ]
  },
  {
   "cell_type": "code",
   "execution_count": 8,
   "metadata": {},
   "outputs": [
    {
     "name": "stdout",
     "output_type": "stream",
     "text": [
      "welcome sam\n"
     ]
    }
   ],
   "source": [
    "username =input (\"enter your username : \")\n",
    "password =input(\"enter your password : \")\n",
    "if username == 'sam':\n",
    "    if password == '123':\n",
    "        print (\"welcome sam\")\n",
    "    else:\n",
    "        print(\"wrong password\")    \n",
    "else:\n",
    "       print(\"wrong username\")         \n"
   ]
  },
  {
   "cell_type": "code",
   "execution_count": 9,
   "metadata": {},
   "outputs": [
    {
     "name": "stdout",
     "output_type": "stream",
     "text": [
      "welcome sam\n"
     ]
    }
   ],
   "source": [
    "if username == 'sam' and password == '123':\n",
    "    print(\"welcome sam\")"
   ]
  },
  {
   "cell_type": "code",
   "execution_count": 10,
   "metadata": {},
   "outputs": [
    {
     "name": "stdout",
     "output_type": "stream",
     "text": [
      "welcome sam\n"
     ]
    }
   ],
   "source": [
    "# this can also be written as\n",
    "if username == 'sam' and password == '123':\n",
    "    print (\"welcome sam\")\n",
    "else:\n",
    "    print (\"wrong username or password\")\n",
    "        "
   ]
  },
  {
   "cell_type": "markdown",
   "metadata": {},
   "source": [
    "## wap to calculate the employees total salary based on following conditions\n",
    "\n",
    "1. if basic salary is less than 10000 then HRA is 10% of basic salary and DA is 90% of basic salary\n",
    "2. if basic salary is greater than 10000 then HRA is 20% of basic salary and DA is 80% of basic salary\n",
    "3. if basic salary is greater than 20000 then HRA is 25% of basic salary and DA is 25% of basic salary\n"
   ]
  },
  {
   "cell_type": "code",
   "execution_count": null,
   "metadata": {},
   "outputs": [],
   "source": []
  }
 ],
 "metadata": {
  "kernelspec": {
   "display_name": "Python 3.9.13 ('base')",
   "language": "python",
   "name": "python3"
  },
  "language_info": {
   "codemirror_mode": {
    "name": "ipython",
    "version": 3
   },
   "file_extension": ".py",
   "mimetype": "text/x-python",
   "name": "python",
   "nbconvert_exporter": "python",
   "pygments_lexer": "ipython3",
   "version": "3.9.13"
  },
  "orig_nbformat": 4,
  "vscode": {
   "interpreter": {
    "hash": "8c46ac5aaab4d3c9f2f9be91c3b9b95f2b8ede1f4aae554ca1e34eefcba1468b"
   }
  }
 },
 "nbformat": 4,
 "nbformat_minor": 2
}
