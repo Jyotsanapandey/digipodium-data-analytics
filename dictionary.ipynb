{
 "cells": [
  {
   "cell_type": "code",
   "execution_count": 1,
   "metadata": {},
   "outputs": [],
   "source": [
    "x = [1,2,3,4]"
   ]
  },
  {
   "cell_type": "code",
   "execution_count": 2,
   "metadata": {},
   "outputs": [],
   "source": [
    "emp = ['amar','deep','finance',100,200,300,30,True,False,'Acme']"
   ]
  },
  {
   "cell_type": "code",
   "execution_count": 3,
   "metadata": {},
   "outputs": [],
   "source": [
    "emp_dict = {\n",
    "    'fname':'amar',\n",
    "    'lname': 'deep',\n",
    "    'dept' : 'finance',\n",
    "    'salary' : 100,\n",
    "    'bonus' : 200,\n",
    "    'age': 31,\n",
    "    'is_manager': True,\n",
    "    'is_executive' : False,\n",
    "    'company': 'Acme'}"
   ]
  },
  {
   "cell_type": "code",
   "execution_count": 4,
   "metadata": {},
   "outputs": [
    {
     "name": "stdout",
     "output_type": "stream",
     "text": [
      "{'fname': 'amar', 'lname': 'deep', 'dept': 'finance', 'salary': 100, 'bonus': 200, 'age': 31, 'is_manager': True, 'is_executive': False, 'company': 'Acme'}\n"
     ]
    }
   ],
   "source": [
    "print(emp_dict)"
   ]
  },
  {
   "cell_type": "code",
   "execution_count": 5,
   "metadata": {},
   "outputs": [],
   "source": [
    "weather_data = {\n",
    "    'data': '2019-01-01',\n",
    "    'temp' : 32,\n",
    "    'details':{\n",
    "        'humidity':80,\n",
    "        'wind':10,\n",
    "        'pressure': 30,\n",
    "        'aqi': 120\n",
    "    },\n",
    "    'city': 'lucknow',\n",
    "    'type': 'sunshine',\n",
    "    'icon' : '🥵'\n",
    "}"
   ]
  },
  {
   "cell_type": "code",
   "execution_count": 6,
   "metadata": {},
   "outputs": [
    {
     "data": {
      "text/plain": [
       "['data', 'temp', 'details', 'city', 'type', 'icon']"
      ]
     },
     "execution_count": 6,
     "metadata": {},
     "output_type": "execute_result"
    }
   ],
   "source": [
    "list (weather_data.keys())  # keys function (date, temp ,etc)is use to get the keys from the data"
   ]
  },
  {
   "cell_type": "code",
   "execution_count": 7,
   "metadata": {},
   "outputs": [
    {
     "data": {
      "text/plain": [
       "['2019-01-01',\n",
       " 32,\n",
       " {'humidity': 80, 'wind': 10, 'pressure': 30, 'aqi': 120},\n",
       " 'lucknow',\n",
       " 'sunshine',\n",
       " '🥵']"
      ]
     },
     "execution_count": 7,
     "metadata": {},
     "output_type": "execute_result"
    }
   ],
   "source": [
    "list(weather_data.values())"
   ]
  },
  {
   "cell_type": "code",
   "execution_count": 8,
   "metadata": {},
   "outputs": [
    {
     "ename": "AttributeError",
     "evalue": "'dict' object has no attribute 'key'",
     "output_type": "error",
     "traceback": [
      "\u001b[1;31m---------------------------------------------------------------------------\u001b[0m",
      "\u001b[1;31mAttributeError\u001b[0m                            Traceback (most recent call last)",
      "\u001b[1;32mc:\\Users\\DELL\\OneDrive\\Documents\\data analytics\\dictionary.ipynb Cell 8\u001b[0m in \u001b[0;36m<cell line: 1>\u001b[1;34m()\u001b[0m\n\u001b[1;32m----> <a href='vscode-notebook-cell:/c%3A/Users/DELL/OneDrive/Documents/data%20analytics/dictionary.ipynb#X10sZmlsZQ%3D%3D?line=0'>1</a>\u001b[0m \u001b[39mlist\u001b[39m(emp_dict\u001b[39m.\u001b[39;49mkey())\n",
      "\u001b[1;31mAttributeError\u001b[0m: 'dict' object has no attribute 'key'"
     ]
    }
   ],
   "source": [
    "list(emp_dict.key())"
   ]
  },
  {
   "cell_type": "code",
   "execution_count": null,
   "metadata": {},
   "outputs": [
    {
     "data": {
      "text/plain": [
       "{'humidity': 80, 'wind': 10, 'pressure': 30, 'aqi': 120}"
      ]
     },
     "execution_count": 15,
     "metadata": {},
     "output_type": "execute_result"
    }
   ],
   "source": [
    "weather_data['details']"
   ]
  },
  {
   "cell_type": "code",
   "execution_count": null,
   "metadata": {},
   "outputs": [
    {
     "ename": "KeyError",
     "evalue": "'location'",
     "output_type": "error",
     "traceback": [
      "\u001b[1;31m---------------------------------------------------------------------------\u001b[0m",
      "\u001b[1;31mKeyError\u001b[0m                                  Traceback (most recent call last)",
      "\u001b[1;32mc:\\Users\\DELL\\OneDrive\\Documents\\data analytics\\dictionary.ipynb Cell 10\u001b[0m in \u001b[0;36m<cell line: 1>\u001b[1;34m()\u001b[0m\n\u001b[1;32m----> <a href='vscode-notebook-cell:/c%3A/Users/DELL/OneDrive/Documents/data%20analytics/dictionary.ipynb#X12sZmlsZQ%3D%3D?line=0'>1</a>\u001b[0m weather_data[\u001b[39m'\u001b[39;49m\u001b[39mlocation\u001b[39;49m\u001b[39m'\u001b[39;49m]\n",
      "\u001b[1;31mKeyError\u001b[0m: 'location'"
     ]
    }
   ],
   "source": [
    "weather_data['location']"
   ]
  },
  {
   "cell_type": "code",
   "execution_count": null,
   "metadata": {},
   "outputs": [
    {
     "data": {
      "text/plain": [
       "32"
      ]
     },
     "execution_count": 17,
     "metadata": {},
     "output_type": "execute_result"
    }
   ],
   "source": [
    "weather_data.get('temp')   # get function is used to get the data if you have it otherwise there will be no outout"
   ]
  },
  {
   "cell_type": "code",
   "execution_count": null,
   "metadata": {},
   "outputs": [],
   "source": [
    "weather_data.get('location')"
   ]
  },
  {
   "cell_type": "code",
   "execution_count": null,
   "metadata": {},
   "outputs": [
    {
     "data": {
      "text/plain": [
       "'lucknow'"
      ]
     },
     "execution_count": 19,
     "metadata": {},
     "output_type": "execute_result"
    }
   ],
   "source": [
    "weather_data.get('city','not found')"
   ]
  },
  {
   "cell_type": "code",
   "execution_count": null,
   "metadata": {},
   "outputs": [
    {
     "data": {
      "text/plain": [
       "'not found'"
      ]
     },
     "execution_count": 20,
     "metadata": {},
     "output_type": "execute_result"
    }
   ],
   "source": [
    "weather_data.get('location','not found')"
   ]
  },
  {
   "cell_type": "markdown",
   "metadata": {},
   "source": [
    "### looping over a dictionary"
   ]
  },
  {
   "cell_type": "code",
   "execution_count": null,
   "metadata": {},
   "outputs": [
    {
     "name": "stdout",
     "output_type": "stream",
     "text": [
      "fname => amar\n",
      "lname => deep\n",
      "dept => finance\n",
      "salary => 100\n",
      "bonus => 200\n",
      "age => 31\n",
      "is_manager => True\n",
      "is_executive => False\n",
      "company => Acme\n"
     ]
    }
   ],
   "source": [
    "for key in emp_dict:\n",
    "    print(key,'=>',emp_dict[key])"
   ]
  },
  {
   "cell_type": "code",
   "execution_count": null,
   "metadata": {},
   "outputs": [
    {
     "name": "stdout",
     "output_type": "stream",
     "text": [
      "fname => amar\n",
      "lname => deep\n",
      "dept => finance\n",
      "salary => 100\n",
      "bonus => 200\n",
      "age => 31\n",
      "is_manager => True\n",
      "is_executive => False\n",
      "company => Acme\n"
     ]
    }
   ],
   "source": [
    "# second pythonic way\n",
    "\n",
    "# looping over a dictionary using items()\n",
    "for key,value in emp_dict.items():       # when we use items functions then we get both value and keys from the data in the output and by default it only shows keys\n",
    "    print(key,'=>',value)"
   ]
  },
  {
   "cell_type": "code",
   "execution_count": null,
   "metadata": {},
   "outputs": [
    {
     "data": {
      "text/plain": [
       "dict_items([('fname', 'amar'), ('lname', 'deep'), ('dept', 'finance'), ('salary', 100), ('bonus', 200), ('age', 31), ('is_manager', True), ('is_executive', False), ('company', 'Acme')])"
      ]
     },
     "execution_count": 31,
     "metadata": {},
     "output_type": "execute_result"
    }
   ],
   "source": [
    "emp_dict.items()"
   ]
  },
  {
   "cell_type": "code",
   "execution_count": null,
   "metadata": {},
   "outputs": [],
   "source": [
    "# updating an entry in dictionary\n",
    "weather_data['temp']= 35"
   ]
  },
  {
   "cell_type": "code",
   "execution_count": null,
   "metadata": {},
   "outputs": [
    {
     "data": {
      "text/plain": [
       "{'data': '2019-01-01',\n",
       " 'temp': 35,\n",
       " 'details': {'humidity': 80, 'wind': 10, 'pressure': 30, 'aqi': 120},\n",
       " 'city': 'lucknow',\n",
       " 'type': 'sunshine',\n",
       " 'icon': '🥵'}"
      ]
     },
     "execution_count": 33,
     "metadata": {},
     "output_type": "execute_result"
    }
   ],
   "source": [
    "weather_data"
   ]
  },
  {
   "cell_type": "markdown",
   "metadata": {},
   "source": [
    "### adding data"
   ]
  },
  {
   "cell_type": "code",
   "execution_count": 12,
   "metadata": {},
   "outputs": [
    {
     "name": "stdout",
     "output_type": "stream",
     "text": [
      "{'fname': 'amar', 'lname': 'deep', 'dept': 'finance', 'salary': 100, 'bonus': 200, 'age': 31, 'is_manager': True, 'is_executive': False, 'company': 'Acme', 'designation': 'Asst A '}\n"
     ]
    }
   ],
   "source": [
    "# adding data \n",
    "emp_dict['designation'] = 'Asst A '\n",
    "print(emp_dict)\n"
   ]
  },
  {
   "cell_type": "markdown",
   "metadata": {},
   "source": [
    "### updating data "
   ]
  },
  {
   "cell_type": "code",
   "execution_count": 13,
   "metadata": {},
   "outputs": [
    {
     "name": "stdout",
     "output_type": "stream",
     "text": [
      "{'fname': 'amar', 'lname': 'deep', 'dept': 'finance', 'salary': 30000, 'bonus': 200, 'age': 31, 'is_manager': True, 'is_executive': False, 'company': 'Acme', 'designation': 'section manager '}\n"
     ]
    }
   ],
   "source": [
    "# updating data \n",
    "emp_dict['designation'] = 'section manager '\n",
    "# print(emp_dict)\n",
    "emp_dict['salary'] = 30000\n",
    "print(emp_dict)"
   ]
  },
  {
   "cell_type": "markdown",
   "metadata": {},
   "source": [
    "### removing data "
   ]
  },
  {
   "cell_type": "code",
   "execution_count": 17,
   "metadata": {},
   "outputs": [],
   "source": [
    "if 'is_executive' in emp_dict:\n",
    "     emp_dict.pop('is_executive')  # remove the an entry"
   ]
  },
  {
   "cell_type": "code",
   "execution_count": 18,
   "metadata": {},
   "outputs": [
    {
     "data": {
      "text/plain": [
       "{'fname': 'amar',\n",
       " 'lname': 'deep',\n",
       " 'dept': 'finance',\n",
       " 'salary': 30000,\n",
       " 'bonus': 200,\n",
       " 'age': 31,\n",
       " 'is_manager': True,\n",
       " 'company': 'Acme',\n",
       " 'designation': 'section manager '}"
      ]
     },
     "execution_count": 18,
     "metadata": {},
     "output_type": "execute_result"
    }
   ],
   "source": [
    "emp_dict"
   ]
  },
  {
   "cell_type": "markdown",
   "metadata": {},
   "source": [
    "### rule to pop function if the key is present in the data then only pop will give us the result otherwise it will crash"
   ]
  },
  {
   "cell_type": "code",
   "execution_count": 22,
   "metadata": {},
   "outputs": [],
   "source": [
    "reports = {\n",
    "    '001': {\n",
    "        'name': 'amar',\n",
    "        'subject':{'english':80,'maths':90,'science':95}\n",
    "    },\n",
    "     '002': {\n",
    "        'name': 'vijay',\n",
    "        'subject':{'english':70,'maths':60,'science':85}\n",
    "    },\n",
    "     '003': {\n",
    "        'name': 'raj',\n",
    "        'subject':{'english':60,'maths':50,'science':45}\n",
    "    }\n",
    "}\n",
    "    "
   ]
  },
  {
   "cell_type": "code",
   "execution_count": 23,
   "metadata": {},
   "outputs": [
    {
     "data": {
      "text/plain": [
       "{'001': {'name': 'amar',\n",
       "  'subject': {'english': 80, 'maths': 90, 'science': 95}},\n",
       " '002': {'name': 'vijay',\n",
       "  'subject': {'english': 70, 'maths': 60, 'science': 85}},\n",
       " '003': {'name': 'raj',\n",
       "  'subject': {'english': 60, 'maths': 50, 'science': 45}}}"
      ]
     },
     "execution_count": 23,
     "metadata": {},
     "output_type": "execute_result"
    }
   ],
   "source": [
    "reports"
   ]
  },
  {
   "cell_type": "code",
   "execution_count": 35,
   "metadata": {},
   "outputs": [
    {
     "name": "stdout",
     "output_type": "stream",
     "text": [
      "roll no. 001\n",
      "name amar\n",
      "subject\n",
      "english 80\n",
      "maths 90\n",
      "science 95\n",
      "--------------------\n",
      "roll no. 002\n",
      "name vijay\n",
      "subject\n",
      "english 70\n",
      "maths 60\n",
      "science 85\n",
      "--------------------\n",
      "roll no. 003\n",
      "name raj\n",
      "subject\n",
      "english 60\n",
      "maths 50\n",
      "science 45\n",
      "--------------------\n"
     ]
    }
   ],
   "source": [
    "for roll ,data in reports.items():\n",
    "    print(\"roll no.\",roll)\n",
    "    for key , val in data.items():\n",
    "        if isinstance(val,dict):  \n",
    "            print(key)                  # isinstance  function is used to check the datatype of the element\n",
    "            for sub,marks in val.items():\n",
    "                print(sub,marks)\n",
    "        else:\n",
    "            print(key,val)\n",
    "    print('--'*10)            "
   ]
  },
  {
   "cell_type": "code",
   "execution_count": 36,
   "metadata": {},
   "outputs": [
    {
     "name": "stdout",
     "output_type": "stream",
     "text": [
      "roll no. 001\n",
      "name amar\n",
      "subject\n",
      "english 80\n",
      "maths 90\n",
      "science 95\n",
      "total:265/300\n",
      "--------------------\n",
      "roll no. 002\n",
      "name vijay\n",
      "subject\n",
      "english 70\n",
      "maths 60\n",
      "science 85\n",
      "total:215/300\n",
      "--------------------\n",
      "roll no. 003\n",
      "name raj\n",
      "subject\n",
      "english 60\n",
      "maths 50\n",
      "science 45\n",
      "total:155/300\n",
      "--------------------\n"
     ]
    }
   ],
   "source": [
    "for roll ,data in reports.items():\n",
    "    print(\"roll no.\",roll)\n",
    "    for key , val in data.items():\n",
    "        if isinstance(val,dict):  \n",
    "            print(key)    \n",
    "            total = 0      # before loop set marks to 0        # isinstance  function is used to check the datatype of the element\n",
    "            for sub,marks in val.items():\n",
    "                print(sub,marks)\n",
    "                total += marks\n",
    "            print(f'total:{total}/300')\n",
    "        else:\n",
    "            print(key,val)\n",
    "            \n",
    "    print('--'*10) "
   ]
  },
  {
   "cell_type": "code",
   "execution_count": 43,
   "metadata": {},
   "outputs": [
    {
     "name": "stdout",
     "output_type": "stream",
     "text": [
      "roll no. 001\n",
      "name amar\n",
      "subject\n",
      "english 80\n",
      "maths 90\n",
      "science 95\n",
      "total:265/300\n",
      "percentage:88.33 %\n",
      "--------------------\n",
      "roll no. 002\n",
      "name vijay\n",
      "subject\n",
      "english 70\n",
      "maths 60\n",
      "science 85\n",
      "total:215/300\n",
      "percentage:71.67 %\n",
      "--------------------\n",
      "roll no. 003\n",
      "name raj\n",
      "subject\n",
      "english 60\n",
      "maths 50\n",
      "science 45\n",
      "total:155/300\n",
      "percentage:51.67 %\n",
      "--------------------\n"
     ]
    }
   ],
   "source": [
    "for roll ,data in reports.items():\n",
    "    print(\"roll no.\",roll)\n",
    "    for key , val in data.items():\n",
    "        if isinstance(val,dict):  \n",
    "            print(key)    \n",
    "            total = 0      # before loop set marks to 0        # isinstance  function is used to check the datatype of the element\n",
    "            for sub,marks in val.items():\n",
    "                print(sub,marks)\n",
    "                total += marks\n",
    "            print(f'total:{total}/300')\n",
    "            print(f'percentage:{total/300*100:.2f} %') \n",
    "        else:\n",
    "            print(key,val)\n",
    "            \n",
    "    print('--'*10) "
   ]
  },
  {
   "cell_type": "markdown",
   "metadata": {},
   "source": [
    "### File handling \n",
    "- open a file\n",
    "- reading a file (file which we can open in notepad we cannot open pdf , ppt from it)\n",
    "- writing a file\n",
    "- appending a file"
   ]
  },
  {
   "cell_type": "code",
   "execution_count": 44,
   "metadata": {},
   "outputs": [
    {
     "name": "stdout",
     "output_type": "stream",
     "text": [
      "{\n",
      " \"cells\": [\n",
      "  {\n",
      "   \"cell_type\": \"code\",\n",
      "   \"execution_count\": 1,\n",
      "   \"metadata\": {},\n",
      "   \"outputs\": [\n",
      "    {\n",
      "     \"name\": \"stdout\",\n",
      "     \"output_type\": \"stream\",\n",
      "     \"text\": [\n",
      "      \"hi there\\n\"\n",
      "     ]\n",
      "    }\n",
      "   ],\n",
      "   \"source\": [\n",
      "    \"print ('hi there')\"\n",
      "   ]\n",
      "  }\n",
      " ],\n",
      " \"metadata\": {\n",
      "  \"kernelspec\": {\n",
      "   \"display_name\": \"Python 3.9.13 ('base')\",\n",
      "   \"language\": \"python\",\n",
      "   \"name\": \"python3\"\n",
      "  },\n",
      "  \"language_info\": {\n",
      "   \"codemirror_mode\": {\n",
      "    \"name\": \"ipython\",\n",
      "    \"version\": 3\n",
      "   },\n",
      "   \"file_extension\": \".py\",\n",
      "   \"mimetype\": \"text/x-python\",\n",
      "   \"name\": \"python\",\n",
      "   \"nbconvert_exporter\": \"python\",\n",
      "   \"pygments_lexer\": \"ipython3\",\n",
      "   \"version\": \"3.9.13\"\n",
      "  },\n",
      "  \"orig_nbformat\": 4,\n",
      "  \"vscode\": {\n",
      "   \"interpreter\": {\n",
      "    \"hash\": \"8c46ac5aaab4d3c9f2f9be91c3b9b95f2b8ede1f4aae554ca1e34eefcba1468b\"\n",
      "   }\n",
      "  }\n",
      " },\n",
      " \"nbformat\": 4,\n",
      " \"nbformat_minor\": 2\n",
      "}\n",
      "\n"
     ]
    }
   ],
   "source": [
    "f = open('hello.ipynb')\n",
    "print(f.read())"
   ]
  },
  {
   "cell_type": "code",
   "execution_count": 49,
   "metadata": {},
   "outputs": [
    {
     "name": "stdout",
     "output_type": "stream",
     "text": [
      "0 characters\n"
     ]
    }
   ],
   "source": [
    "f = open(r'C:\\Users\\DELL\\OneDrive\\Desktop\\jyotsana.txt')   # r is raw format which is used to\n",
    "content = f.read()\n",
    "print(f'{len (content) } characters')"
   ]
  },
  {
   "cell_type": "code",
   "execution_count": 50,
   "metadata": {},
   "outputs": [],
   "source": [
    "data = 'hi everyone,this is sample file'\n",
    "with open('mydata.txt','w')as file :              # with is a keyword in python which run the task and close the task and saves it after that\n",
    "    file.write(data)"
   ]
  },
  {
   "cell_type": "code",
   "execution_count": 51,
   "metadata": {},
   "outputs": [],
   "source": [
    "# not to be used\n",
    "# file = open('mydata.txt','w')\n",
    "# file.write(data)\n",
    "# file.close()"
   ]
  },
  {
   "cell_type": "code",
   "execution_count": null,
   "metadata": {},
   "outputs": [],
   "source": [
    "data = '\\nthis is the new data that is going to be written'\n",
    "with open('mydata.txt','a') as file:\n",
    "    file.write(data)"
   ]
  },
  {
   "cell_type": "code",
   "execution_count": 54,
   "metadata": {},
   "outputs": [
    {
     "name": "stdout",
     "output_type": "stream",
     "text": [
      "Filebio.txt saved\n"
     ]
    }
   ],
   "source": [
    "file = 'bio.txt'\n",
    "content = ''\n",
    "\n",
    "while True:\n",
    "    line = input('enter a line(or q to be quit):')\n",
    "    if line == 'q':\n",
    "        break\n",
    "    content += line + '\\n'\n",
    "\n",
    "with open(file,'w') as f :\n",
    "    f.write(content)\n",
    "    print(f'File{file} saved')"
   ]
  },
  {
   "cell_type": "code",
   "execution_count": null,
   "metadata": {},
   "outputs": [],
   "source": []
  }
 ],
 "metadata": {
  "kernelspec": {
   "display_name": "Python 3.9.13 ('base')",
   "language": "python",
   "name": "python3"
  },
  "language_info": {
   "codemirror_mode": {
    "name": "ipython",
    "version": 3
   },
   "file_extension": ".py",
   "mimetype": "text/x-python",
   "name": "python",
   "nbconvert_exporter": "python",
   "pygments_lexer": "ipython3",
   "version": "3.9.13"
  },
  "orig_nbformat": 4,
  "vscode": {
   "interpreter": {
    "hash": "8c46ac5aaab4d3c9f2f9be91c3b9b95f2b8ede1f4aae554ca1e34eefcba1468b"
   }
  }
 },
 "nbformat": 4,
 "nbformat_minor": 2
}
