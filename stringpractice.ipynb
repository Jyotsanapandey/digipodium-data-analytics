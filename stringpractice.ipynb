{
 "cells": [
  {
   "cell_type": "code",
   "execution_count": 2,
   "metadata": {},
   "outputs": [
    {
     "name": "stdout",
     "output_type": "stream",
     "text": [
      "this is an orange\n"
     ]
    }
   ],
   "source": [
    "# ques 1: create a string and print it.\n",
    "data = str('this is an orange')\n",
    "print (data)"
   ]
  },
  {
   "cell_type": "code",
   "execution_count": 1,
   "metadata": {},
   "outputs": [
    {
     "name": "stdout",
     "output_type": "stream",
     "text": [
      "8\n"
     ]
    }
   ],
   "source": [
    "# ques 2: Take a string input and print it's length\n",
    "data = str(input('enter the name'))\n",
    "print(len(data))"
   ]
  },
  {
   "cell_type": "code",
   "execution_count": 1,
   "metadata": {},
   "outputs": [
    {
     "data": {
      "text/plain": [
       "<function print>"
      ]
     },
     "execution_count": 1,
     "metadata": {},
     "output_type": "execute_result"
    }
   ],
   "source": [
    "print"
   ]
  },
  {
   "cell_type": "code",
   "execution_count": 7,
   "metadata": {},
   "outputs": [
    {
     "name": "stdout",
     "output_type": "stream",
     "text": [
      "great\n"
     ]
    }
   ],
   "source": [
    "# ques 3: Print the last word of the string python is great using slices\n",
    "data = 'python is great'\n",
    "slice1 =data[10:]\n",
    "print (slice1)"
   ]
  },
  {
   "cell_type": "code",
   "execution_count": 9,
   "metadata": {},
   "outputs": [
    {
     "name": "stdout",
     "output_type": "stream",
     "text": [
      "python\n",
      " is \n",
      " everywhere\n"
     ]
    }
   ],
   "source": [
    "# ques 4: Print the each word in different line of string python is everywhere\n",
    "data = '''python\n",
    " is \n",
    " everywhere'''\n",
    "print(data)\n"
   ]
  },
  {
   "cell_type": "code",
   "execution_count": 12,
   "metadata": {},
   "outputs": [
    {
     "name": "stdout",
     "output_type": "stream",
     "text": [
      "dlrow olleh\n"
     ]
    }
   ],
   "source": [
    "# ques 5: Print the string hello world in reverse\n",
    "data  = 'hello world'\n",
    "print(data[::-1])"
   ]
  },
  {
   "cell_type": "code",
   "execution_count": 14,
   "metadata": {},
   "outputs": [
    {
     "name": "stdout",
     "output_type": "stream",
     "text": [
      "HOW ARE YOU?\n"
     ]
    }
   ],
   "source": [
    "#ques 6: convert the string how are you ? in uppercase\n",
    "data = 'how are you?'\n",
    "print(data.upper())"
   ]
  },
  {
   "cell_type": "code",
   "execution_count": 16,
   "metadata": {},
   "outputs": [
    {
     "name": "stdout",
     "output_type": "stream",
     "text": [
      "HOW IS IT GOING?\n"
     ]
    }
   ],
   "source": [
    "#ques 7: convert the string how is it going? in lowercase\n",
    "data = 'how is it going?'\n",
    "print(data.upper())"
   ]
  },
  {
   "cell_type": "code",
   "execution_count": 19,
   "metadata": {},
   "outputs": [],
   "source": [
    "#ques 8: join the following list by spaces ( ) and print the result \n",
    "words = ['python','is','easy','to','learn']"
   ]
  },
  {
   "cell_type": "code",
   "execution_count": 21,
   "metadata": {},
   "outputs": [
    {
     "name": "stdout",
     "output_type": "stream",
     "text": [
      "python is easy to learn\n"
     ]
    }
   ],
   "source": [
    "print(' '.join(words))"
   ]
  },
  {
   "cell_type": "code",
   "execution_count": 25,
   "metadata": {},
   "outputs": [
    {
     "name": "stdout",
     "output_type": "stream",
     "text": [
      "ye \n",
      "       padhaya\n",
      "       nhi     \n",
      "       gya\n",
      "       hai\n"
     ]
    }
   ],
   "source": [
    "# ques 9: Print a multiline string using a single print \n",
    "data = '''ye \n",
    "       padhaya\n",
    "       nhi     \n",
    "       gya\n",
    "       hai'''\n",
    "print(data)"
   ]
  },
  {
   "cell_type": "code",
   "execution_count": 28,
   "metadata": {},
   "outputs": [
    {
     "name": "stdout",
     "output_type": "stream",
     "text": [
      "i am unaware of this topic \n",
      "\n",
      "to move to the next line\n"
     ]
    }
   ],
   "source": [
    "#ques 10: Print this string to move to the new line '\\n'is used \n",
    "print('i am unaware of this topic ''\\n')\n",
    " print('to move to the next line')"
   ]
  },
  {
   "cell_type": "code",
   "execution_count": 25,
   "metadata": {},
   "outputs": [
    {
     "name": "stdout",
     "output_type": "stream",
     "text": [
      "the variable is 15\n"
     ]
    }
   ],
   "source": [
    "#ques 11: print a variable with some text using a single print function, output should look like following\n",
    "#  the variable is 15\n",
    "x = '15'\n",
    "print(f'the variable is {x}')"
   ]
  },
  {
   "cell_type": "code",
   "execution_count": 26,
   "metadata": {},
   "outputs": [
    {
     "name": "stdout",
     "output_type": "stream",
     "text": [
      "False\n"
     ]
    }
   ],
   "source": [
    "x = 'the variable is 15'     # to check whether the variable is true or false\n",
    "print (x.isalnum())"
   ]
  },
  {
   "cell_type": "code",
   "execution_count": 14,
   "metadata": {},
   "outputs": [
    {
     "name": "stdout",
     "output_type": "stream",
     "text": [
      "python is great\n"
     ]
    }
   ],
   "source": [
    "# ques 12: concatenate the following strings and print the result\n",
    "# s1 = 'python'\n",
    "# s2 = 'is' \n",
    "# s3 = 'great'\n",
    "\n",
    "s1 = 'python'\n",
    "s2 = 'is' \n",
    "s3 = 'great'\n",
    "msg = 'python' +' '+ 'is' + ' '+ 'great'\n",
    "print (msg)\n",
    "\n"
   ]
  },
  {
   "cell_type": "code",
   "execution_count": 18,
   "metadata": {},
   "outputs": [
    {
     "name": "stdout",
     "output_type": "stream",
     "text": [
      " #  #  #  #  #  #  #  #  #  #  #  #  #  #  #  #  #  #  #  # \n"
     ]
    }
   ],
   "source": [
    "#ques 13: Print # 20 times without using a loop\n",
    "print (' # ' * 20)"
   ]
  },
  {
   "cell_type": "code",
   "execution_count": 32,
   "metadata": {},
   "outputs": [
    {
     "name": "stdout",
     "output_type": "stream",
     "text": [
      "1.\n",
      "2.\n",
      "3.\n"
     ]
    }
   ],
   "source": [
    "#ques 14: print numbers from 1 to 9 each on a separate line, followed by a dot \n",
    "data = ['1','2','3']\n",
    "for i in range(len(data)):\n",
    "    print(data[i]+ '.')"
   ]
  },
  {
   "cell_type": "code",
   "execution_count": 8,
   "metadata": {},
   "outputs": [
    {
     "name": "stdout",
     "output_type": "stream",
     "text": [
      "my\n",
      "name\n",
      "is\n",
      "jyotsana\n"
     ]
    }
   ],
   "source": [
    "#ques 15:ask the user to input a sentence print each word on a different line\n",
    "sentence = input('enter the sentence')\n",
    "data = sentence.split()\n",
    "for i in range(len(data)):\n",
    "    print (data[i])"
   ]
  },
  {
   "cell_type": "code",
   "execution_count": 32,
   "metadata": {},
   "outputs": [
    {
     "data": {
      "text/plain": [
       "True"
      ]
     },
     "execution_count": 32,
     "metadata": {},
     "output_type": "execute_result"
    }
   ],
   "source": [
    "# ques 16: ask the user to input a string and check if the string ends with '?'\n",
    "data = str('how are you ?')\n",
    "data.endswith('?')"
   ]
  },
  {
   "cell_type": "code",
   "execution_count": 13,
   "metadata": {},
   "outputs": [
    {
     "data": {
      "text/plain": [
       "7"
      ]
     },
     "execution_count": 13,
     "metadata": {},
     "output_type": "execute_result"
    }
   ],
   "source": [
    "# ques 17: ask the user to input a string and print how many times e appears in the string\n",
    "data  = 'characteristics of indian workers'\n",
    "data.find('e')"
   ]
  },
  {
   "cell_type": "code",
   "execution_count": 14,
   "metadata": {},
   "outputs": [
    {
     "data": {
      "text/plain": [
       "True"
      ]
     },
     "execution_count": 14,
     "metadata": {},
     "output_type": "execute_result"
    }
   ],
   "source": [
    "# ques 18: check if the user input is a number\n",
    "data = '123'\n",
    "data.isnumeric() "
   ]
  },
  {
   "cell_type": "code",
   "execution_count": 22,
   "metadata": {},
   "outputs": [
    {
     "name": "stdout",
     "output_type": "stream",
     "text": [
      "this is a good string\n"
     ]
    }
   ],
   "source": [
    "# ques 19: remove the extra spaces in the beginning and the end of the following string : text = '    this is a good string    '\n",
    "text1 = 'this'\n",
    "text2 =  'is'\n",
    "text3 =   'a' \n",
    "text4 = 'good'\n",
    "text5 = 'string' \n",
    "msg = 'this' +  ' '+ 'is'+' '+'a'+' '+'good'+' '+'string'   \n",
    "print(msg)"
   ]
  },
  {
   "cell_type": "code",
   "execution_count": 29,
   "metadata": {},
   "outputs": [
    {
     "name": "stdout",
     "output_type": "stream",
     "text": [
      "this is a good string\n"
     ]
    }
   ],
   "source": [
    "text = '     this is a good string    ' # here we are using strip function\n",
    "text = text.strip()\n",
    "print(text)"
   ]
  },
  {
   "cell_type": "code",
   "execution_count": 57,
   "metadata": {},
   "outputs": [
    {
     "name": "stdout",
     "output_type": "stream",
     "text": [
      "not found\n"
     ]
    }
   ],
   "source": [
    "# ques 20: ask user to input string , print found if any of the character is upper case\n",
    "name = input ('enter the string')\n",
    "for i in range(len(name)):\n",
    "    if name[i].isupper():\n",
    "        print('found')\n",
    "        break\n",
    "else:\n",
    "    print('not found')    "
   ]
  },
  {
   "cell_type": "code",
   "execution_count": 56,
   "metadata": {},
   "outputs": [
    {
     "name": "stdout",
     "output_type": "stream",
     "text": [
      "['joe', ' david', ' mark', ' tom', ' chris', ' robert']\n"
     ]
    }
   ],
   "source": [
    "# ques 21: extract names from the following string and store them in a list \n",
    "# name = 'joe, david, mark, tom, chris, robert'\n",
    "name = 'joe, david, mark, tom, chris, robert'\n",
    "data = name.split(',')\n",
    "print(data)\n"
   ]
  },
  {
   "cell_type": "code",
   "execution_count": 34,
   "metadata": {},
   "outputs": [
    {
     "name": "stdout",
     "output_type": "stream",
     "text": [
      "this aye is aye some aye text aye\n"
     ]
    }
   ],
   "source": [
    "# ques 22: In the following string add aye in the end of every word and print the results.\n",
    "# text = 'this is some text'\n",
    "text1 = 'this'\n",
    "text2 = 'is' \n",
    "text3 = 'some'\n",
    "text3 = 'text'\n",
    "msg = 'this'+' '+'aye'+' '+ 'is'+' '+'aye'+ ' '+'some'+' '+'aye'+' '+'text'+' '+'aye'\n",
    "print(msg)"
   ]
  },
  {
   "cell_type": "code",
   "execution_count": 40,
   "metadata": {},
   "outputs": [
    {
     "data": {
      "text/plain": [
       "'ahow are you ?yhow are you ?e'"
      ]
     },
     "execution_count": 40,
     "metadata": {},
     "output_type": "execute_result"
    }
   ],
   "source": [
    "text = 'this is some text'\n",
    "data.join('aye')"
   ]
  },
  {
   "cell_type": "code",
   "execution_count": 63,
   "metadata": {},
   "outputs": [
    {
     "name": "stdout",
     "output_type": "stream",
     "text": [
      "true\n"
     ]
    }
   ],
   "source": [
    "# ques 23: ask the  user to enter a string and check if the string contain fyi\n",
    "\n",
    "b= input('enter the string:')\n",
    "x=b.find('fyi')\n",
    "b1=b[x:x+3]\n",
    "if b1 == 'fyi':\n",
    "   print('true')\n",
    "else:\n",
    "    print('false')   "
   ]
  },
  {
   "cell_type": "code",
   "execution_count": 61,
   "metadata": {},
   "outputs": [
    {
     "name": "stdout",
     "output_type": "stream",
     "text": [
      "python\n"
     ]
    }
   ],
   "source": [
    "# ques 24: remove all the special characters and numbers from the following string : text = '%p34@y!*-*!t68h#&on404'\n",
    "text = '%p34@y!*-*!t68h#&on404'\n",
    "s1 = ['!','@','#','$','%','&','*','-','_']\n",
    "t =''\n",
    " \n",
    "for i in range (len(text)):\n",
    "    if text[i].isnumeric() or text[i] in s1:\n",
    "        continue\n",
    "    else:\n",
    "        t=t+text[i]\n",
    "print(t)\n"
   ]
  },
  {
   "cell_type": "code",
   "execution_count": 60,
   "metadata": {},
   "outputs": [
    {
     "name": "stdout",
     "output_type": "stream",
     "text": [
      "the avg of the word length of the following paragraph is  4\n"
     ]
    }
   ],
   "source": [
    "# ques 25: calculate the average word length of the following paragraph.\n",
    "# this is the paragraph which is written just for the purpose of providing content to let the average word length be calculated\n",
    "nums=[]\n",
    "avg, sum = 0,0\n",
    "text = 'this is the paragraph which is written just for the purpose of providing content to let the average word length be calculated' \n",
    "data = text.split()\n",
    "for i in range (len(data)):\n",
    "    nums.append(len(data[i]))\n",
    "for i in range (len(nums)):\n",
    "    sum+= nums[i] \n",
    "    avg = sum//len(nums) \n",
    "print(f'the avg of the word length of the following paragraph is  {avg}')      "
   ]
  },
  {
   "cell_type": "code",
   "execution_count": null,
   "metadata": {},
   "outputs": [],
   "source": []
  }
 ],
 "metadata": {
  "kernelspec": {
   "display_name": "Python 3.9.13 ('base')",
   "language": "python",
   "name": "python3"
  },
  "language_info": {
   "codemirror_mode": {
    "name": "ipython",
    "version": 3
   },
   "file_extension": ".py",
   "mimetype": "text/x-python",
   "name": "python",
   "nbconvert_exporter": "python",
   "pygments_lexer": "ipython3",
   "version": "3.9.13"
  },
  "orig_nbformat": 4,
  "vscode": {
   "interpreter": {
    "hash": "8c46ac5aaab4d3c9f2f9be91c3b9b95f2b8ede1f4aae554ca1e34eefcba1468b"
   }
  }
 },
 "nbformat": 4,
 "nbformat_minor": 2
}
